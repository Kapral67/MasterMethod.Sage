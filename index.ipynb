{
 "cells": [
  {
   "cell_type": "markdown",
   "id": "bc492686-a170-4c22-b443-9ba06a078fcc",
   "metadata": {},
   "source": [
    "# Master Theorem Recurrences"
   ]
  },
  {
   "cell_type": "markdown",
   "id": "1d37b869-7f74-4fa4-8117-a86493f8a12f",
   "metadata": {
    "tags": []
   },
   "source": [
    "## Maxwell Kapral"
   ]
  },
  {
   "cell_type": "markdown",
   "id": "35c6e351-6714-446c-894d-0185f2b1a8c9",
   "metadata": {},
   "source": [
    "<div style=\"float:right\">\n",
    "    <sub>\n",
    "        <i>powered by SageMath in Jupyter</i>\n",
    "    </sub>\n",
    "</div>"
   ]
  },
  {
   "cell_type": "markdown",
   "id": "3980c109-e82a-4067-9f06-0f530b3bbdcc",
   "metadata": {},
   "source": [
    "---"
   ]
  },
  {
   "cell_type": "markdown",
   "id": "9c8ef144-17ad-427d-995a-d73df2ce6a88",
   "metadata": {},
   "source": [
    "### Of the Form:"
   ]
  },
  {
   "cell_type": "markdown",
   "id": "0e6e2f6a-c61d-4a74-85a4-22451c104926",
   "metadata": {},
   "source": [
    "$$ T\\left(n\\right) = a\\thinspace T\\left(\\frac{n}{b}\\right) + \\mathcal{O}\\left(n^k\\thinspace log^{\\thinspace p}\\left(n\\right)\\right) $$"
   ]
  },
  {
   "cell_type": "markdown",
   "id": "3660db11-c3e5-442f-b55f-a19242e61bd4",
   "metadata": {},
   "source": [
    "Where $n$ is the size of the problem, $a$ is the number of subproblems in the recursion $a\\geq 1$, $\\frac{n}{b}$ is the size of each subproblem, $b>1$, $k\\geq 0$, $p\\in\\mathbb{R}$"
   ]
  },
  {
   "cell_type": "markdown",
   "id": "060e3b3e-aa86-48b5-a3d9-4eb41fc227b4",
   "metadata": {},
   "source": [
    "`expr` is a lazy, magic variable. If `expr` is some $f\\left(n\\right)$, then $T\\left(n\\right) = \\mathcal{O}\\left(f\\left(n\\right)\\right)$ __if__ $f\\left(n\\right) \\in \\Omega\\left(n^{\\thinspace log_b(a)\\thinspace + \\thinspace c_1}\\right)$ __and__ $a f\\left(\\frac{n}{b}\\right) \\leq c_2 f\\left(n\\right)$ __where__ $c_1 > 0$ __and__ $c_2 < 1$, for all $n$ large enough ($+\\infty$)."
   ]
  },
  {
   "cell_type": "code",
   "execution_count": null,
   "id": "f6458604-28ec-431b-904f-95e036febff6",
   "metadata": {
    "tags": []
   },
   "outputs": [],
   "source": [
    "from sage.repl.ipython_kernel.interact import interact\n",
    "import ipywidgets as widgets\n",
    "from IPython.display import display\n",
    "from sage.rings.asymptotic.term_monoid import OTermMonoid, ExactTermMonoid\n",
    "from sage.rings.asymptotic.term_monoid import DefaultTermMonoidFactory as T_M\n",
    "from sage.rings.asymptotic.growth_group import GrowthGroup\n",
    "n = SR.var('n')\n",
    "\n",
    "\n",
    "@interact\n",
    "def mastertheorem(a=input_box(1), b=input_box(2), k=input_box(1),\n",
    "                  p=input_box(1), expr=input_box(n)):\n",
    "    assert(a >= 1), \"a not greater than or equal to 1\"\n",
    "    assert(b > 1), \"b not greater than 1\"\n",
    "    assert(k >= 0), \"k not greater than or equal to 0\"\n",
    "    assert(p in RR), \"p must be a real number\"\n",
    "    if expr != n.factorial():\n",
    "        G_G = GrowthGroup('(RR_+)^n * n^RR * log(n)^RR')\n",
    "        bigO = OTermMonoid(T_M, growth_group=G_G, coefficient_ring=RR)\n",
    "        bigTheta = ExactTermMonoid(T_M, growth_group=G_G, coefficient_ring=RR)\n",
    "        if expr == n:\n",
    "            if p != 0:\n",
    "                expr = (n**k)*(log(n)**p)\n",
    "            else:\n",
    "                expr = n**k\n",
    "        ans = None\n",
    "        eps = 0.01\n",
    "        if bigO(n**(log(a, b) - eps)).can_absorb(bigO(expr)):\n",
    "            ans = n**log(a, b)\n",
    "        if ans is None:\n",
    "            if a >= b**k:\n",
    "                if p > -1:\n",
    "                    for i in range(0, p+1, 1):\n",
    "                        if bigTheta((n**log(a, b))*(log(n))**i).can_absorb(bigTheta(expr)):\n",
    "                            ans = (n**log(a, b))*(log(n)**(i+1))\n",
    "                            break\n",
    "                elif p == -1:\n",
    "                    ans = (n**log(a, b))*log(log(n), b)\n",
    "                elif p < -1:\n",
    "                    ans = n**log(a, b)\n",
    "        if ans is None:\n",
    "            c1 = k - log(a, b)\n",
    "            if c1 <= 0:\n",
    "                c1 = 1\n",
    "            if bigO(expr).can_absorb(bigO(n**(log(a, b) + c1))):\n",
    "                c2 = a/(b**k)\n",
    "                if c2 >= 1:\n",
    "                    c2 = 0\n",
    "                if bigO(c2*expr).can_absorb(bigO(a*(expr/b))):\n",
    "                    ans = expr\n",
    "    else:\n",
    "        ans = factorial(n)\n",
    "    ##########\n",
    "    # OUTPUT #\n",
    "    ##########\n",
    "    print('')\n",
    "    if a == 1:\n",
    "        if p == 0:\n",
    "            rec = r\"$$T\\left(n\\right)=T\\left(\\dfrac{n}{\" + str(latex(b)) +\\\n",
    "                r\"}\\right)+\" + str(latex(expr.simplify())) + \"$$\"\n",
    "        elif p == 1:\n",
    "            if k > 0:\n",
    "                rec = r\"$$T\\left(n\\right)=T\\left(\\dfrac{n}{\" + str(latex(b)) +\\\n",
    "                    r\"}\\right)+\" + str(latex(expr.simplify())) + \"$$\"\n",
    "            else:\n",
    "                rec = r\"$$T\\left(n\\right)=T\\left(\\dfrac{n}{\" + str(latex(b)) +\\\n",
    "                    r\"}\\right)+\\log{n}$$\"\n",
    "        elif p == (-1):\n",
    "            rec = r\"$$T\\left(n\\right)=T\\left(\\dfrac{n}{\" + str(latex(b)) +\\\n",
    "                r\"}\\right)+\" + str(latex(expr.simplify())) + \"$$\"\n",
    "        elif p > 1:\n",
    "            if k > 0:\n",
    "                rec = r\"$$T\\left(n\\right)=T\\left(\\dfrac{n}{\" + str(latex(b)) +\\\n",
    "                    r\"}\\right)+\" + str(latex(expr.simplify())) + \"$$\"\n",
    "            else:\n",
    "                rec = r\"$$T\\left(n\\right)=T\\left(\\dfrac{n}{\" + str(latex(b)) +\\\n",
    "                    r\"}\\right)+\\log^{\" + str(latex(p)) + r\"}{n}$$\"\n",
    "        elif p < (-1):\n",
    "            rec = r\"$$T\\left(n\\right)=T\\left(\\dfrac{n}{\" + str(latex(b)) +\\\n",
    "                r\"}\\right)+\" + str(latex(expr.simplify())) + \"$$\"\n",
    "    else:\n",
    "        if p == 0:\n",
    "            rec = r\"$$T\\left(n\\right)=\" + str(latex(a)) +\\\n",
    "                r\"\\thinspace T\\left(\\dfrac{n}{\" + str(latex(b)) +\\\n",
    "                r\"}\\right)+\" + str(latex(expr.simplify())) + \"$$\"\n",
    "        elif p == 1:\n",
    "            if k > 0:\n",
    "                rec = r\"$$T\\left(n\\right)=\" + str(latex(a)) +\\\n",
    "                    r\"\\thinspace T\\left(\\dfrac{n}{\" + str(latex(b)) +\\\n",
    "                    r\"}\\right)+\" + str(latex(expr.simplify())) + \"$$\"\n",
    "            else:\n",
    "                rec = r\"$$T\\left(n\\right)=\" + str(latex(a)) +\\\n",
    "                    r\"\\thinspace T\\left(\\dfrac{n}{\" + str(latex(b)) +\\\n",
    "                    r\"}\\right)+\\log{n}$$\"\n",
    "        elif p == (-1):\n",
    "            rec = r\"$$T\\left(n\\right)=\" + str(latex(a)) +\\\n",
    "                r\"\\thinspace T\\left(\\dfrac{n}{\" + str(latex(b)) +\\\n",
    "                r\"}\\right)+\" + str(latex(expr.simplify())) + \"$$\"\n",
    "        elif p > 1:\n",
    "            if k > 0:\n",
    "                rec = r\"$$T\\left(n\\right)=\" + str(latex(a)) +\\\n",
    "                    r\"\\thinspace T\\left(\\dfrac{n}{\" + str(latex(b)) +\\\n",
    "                    r\"}\\right)+\" + str(latex(expr.simplify())) + \"$$\"\n",
    "            else:\n",
    "                rec = r\"$$T\\left(n\\right)=\" + str(latex(a)) +\\\n",
    "                    r\"\\thinspace T\\left(\\dfrac{n}{\" + str(latex(b)) +\\\n",
    "                    r\"}\\right)+\\log^{\" + str(latex(p)) + r\"}{n}$$\"\n",
    "        elif p < (-1):\n",
    "            rec = r\"$$T\\left(n\\right)=\" + str(latex(a)) +\\\n",
    "                r\"\\thinspace T\\left(\\dfrac{n}{\" + str(latex(b)) +\\\n",
    "                r\"}\\right)+\" + str(latex(expr.simplify())) + \"$$\"\n",
    "    display(widgets.HTMLMath(rec))\n",
    "    print('')  # Newline\n",
    "    o = r\"$$T\\left(n\\right)\\in\\Theta\\left(\" + str(latex(ans.simplify())) +\\\n",
    "        r\"\\right)$$\"\n",
    "    display(widgets.HTMLMath(o))"
   ]
  }
 ],
 "metadata": {
  "kernelspec": {
   "display_name": "SageMath 9.2",
   "language": "sage",
   "name": "sagemath"
  },
  "language_info": {
   "codemirror_mode": {
    "name": "ipython",
    "version": 3
   },
   "file_extension": ".py",
   "mimetype": "text/x-python",
   "name": "python",
   "nbconvert_exporter": "python",
   "pygments_lexer": "ipython3",
   "version": "3.8.12"
  },
  "voila": {
   "theme": "dark"
  }
 },
 "nbformat": 4,
 "nbformat_minor": 5
}
