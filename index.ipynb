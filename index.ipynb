{
 "cells": [
  {
   "cell_type": "markdown",
   "id": "bc492686-a170-4c22-b443-9ba06a078fcc",
   "metadata": {},
   "source": [
    "# Master Theorem Recurrences"
   ]
  },
  {
   "cell_type": "markdown",
   "id": "1d37b869-7f74-4fa4-8117-a86493f8a12f",
   "metadata": {
    "tags": []
   },
   "source": [
    "## Maxwell Kapral"
   ]
  },
  {
   "cell_type": "markdown",
   "id": "3980c109-e82a-4067-9f06-0f530b3bbdcc",
   "metadata": {},
   "source": [
    "---"
   ]
  },
  {
   "cell_type": "markdown",
   "id": "9c8ef144-17ad-427d-995a-d73df2ce6a88",
   "metadata": {},
   "source": [
    "### Of the Form:"
   ]
  },
  {
   "cell_type": "markdown",
   "id": "0e6e2f6a-c61d-4a74-85a4-22451c104926",
   "metadata": {},
   "source": [
    "$$ T\\left(n\\right) = a\\thinspace T\\left(\\frac{n}{b}\\right) + \\mathcal{O}\\left(n^k\\thinspace log^{\\thinspace p}\\left(n\\right)\\right) $$"
   ]
  },
  {
   "cell_type": "markdown",
   "id": "3660db11-c3e5-442f-b55f-a19242e61bd4",
   "metadata": {},
   "source": [
    "Where $n$ is the size of the problem, $a$ is the number of subproblems in the recursion $a\\geq 1$, $\\frac{n}{b}$ is the size of each subproblem, $b>1$, $k\\geq 0$, $p\\in\\mathbb{R}$"
   ]
  },
  {
   "cell_type": "markdown",
   "id": "060e3b3e-aa86-48b5-a3d9-4eb41fc227b4",
   "metadata": {},
   "source": [
    "`expr` is a lazy, magic variable. If `expr` is some $f\\left(n\\right)$, then $T\\left(n\\right) = \\mathcal{O}\\left(f\\left(n\\right)\\right)$ __if__ $f\\left(n\\right) \\in \\Omega\\left(n^{\\thinspace log_b(a)\\thinspace + \\thinspace c_1}\\right)$ __and__ $a f\\left(\\frac{n}{b}\\right) \\leq c_2 f\\left(n\\right)$ __where__ $c_1 > 0$ __and__ $c_2 < 1$, for all $n$ large enough ($\infty$)."
   ]
  },
  {
   "cell_type": "code",
   "execution_count": 1,
   "id": "f6458604-28ec-431b-904f-95e036febff6",
   "metadata": {
    "execution": {
     "iopub.execute_input": "2022-02-22T01:20:11.731587Z",
     "iopub.status.busy": "2022-02-22T01:20:11.730192Z",
     "iopub.status.idle": "2022-02-22T01:20:16.845148Z",
     "shell.execute_reply": "2022-02-22T01:20:16.839812Z",
     "shell.execute_reply.started": "2022-02-22T01:20:11.731234Z"
    },
    "tags": []
   },
   "outputs": [
    {
     "data": {
      "application/vnd.jupyter.widget-view+json": {
       "model_id": "b9c4c2fa9af2404dbf32989267c180c6",
       "version_major": 2,
       "version_minor": 0
      },
      "text/plain": [
       "Interactive function <function mastertheorem at 0xfffef7ae01f0> with 8 widgets\n",
       "  a: EvalText(value='1', descri…"
      ]
     },
     "metadata": {},
     "output_type": "display_data"
    }
   ],
   "source": [
    "from sage.repl.ipython_kernel.interact import interact\n",
    "import ipywidgets as widgets\n",
    "from IPython.display import display\n",
    "var('n')\n",
    "\n",
    "\n",
    "@interact\n",
    "def mastertheorem(a=input_box(1), b=input_box(2), k=input_box(1),\n",
    "                  p=input_box(1), expr=input_box(n),\n",
    "                  c1=input_box(1), c2=input_box(-1)):\n",
    "    assert(a >= 1), \"a not greater than or equal to 1\"\n",
    "    assert(b > 1), \"b not greater than 1\"\n",
    "    assert(k >= 0), \"k not greater than or equal to 0\"\n",
    "    assert(p in RR), \"p must be a real number\"\n",
    "    if expr == n:\n",
    "        if k != 1:\n",
    "            expr = n**k\n",
    "    else:\n",
    "        expr = expr**k\n",
    "    ef(n) = expr\n",
    "    if a > (b**k):\n",
    "        ans = n**(log(a, b))\n",
    "    elif a == (b**k):\n",
    "        if p > (-1):\n",
    "            ans = n**(log(a, b))*(log(n))**(p+1)\n",
    "        elif p == (-1):\n",
    "            ans = n**(log(a, b))*log(log(n))\n",
    "        elif p < (-1):\n",
    "            ans = n**(log(a, b))\n",
    "    elif a < (b**k):\n",
    "        if p > 0:\n",
    "            ans = (n**k)*(log(n)**p)\n",
    "        elif p <= 0:\n",
    "            ans = n**k\n",
    "    ge(n) = ans\n",
    "    if limit(ef(x), x=oo) >= limit(x**(log(a, b)+c1), x=oo):\n",
    "        if lim((a*ef(x/b)) - ((c2)*ef(x)), x=oo) > 0:\n",
    "            if limit(ef(x), x=oo) > limit(ge(x), x=oo):\n",
    "                ans = expr\n",
    "    ##########\n",
    "    # OUTPUT #\n",
    "    ##########\n",
    "    print('')\n",
    "    if a == 1:\n",
    "        if p == 0:\n",
    "            rec = r\"$$T\\left(n\\right)=T\\left(\\dfrac{n}{\" + str(latex(b)) +\\\n",
    "                r\"}\\right)+\" + str(latex(expr.simplify())) + \"$$\"\n",
    "        elif p == 1:\n",
    "            if k > 0:\n",
    "                rec = r\"$$T\\left(n\\right)=T\\left(\\dfrac{n}{\" + str(latex(b)) +\\\n",
    "                    r\"}\\right)+\" + str(latex(expr.simplify())) + r\"\\log{n}$$\"\n",
    "            else:\n",
    "                rec = r\"$$T\\left(n\\right)=T\\left(\\dfrac{n}{\" + str(latex(b)) +\\\n",
    "                    r\"}\\right)+\\log{n}$$\"\n",
    "        elif p == (-1):\n",
    "            rec = r\"$$T\\left(n\\right)=T\\left(\\dfrac{n}{\" + str(latex(b)) +\\\n",
    "                r\"}\\right)+\\dfrac{\" + str(latex(expr.simplify())) +\\\n",
    "                r\"}{\\log{n}}$$\"\n",
    "        elif p > 1:\n",
    "            if k > 0:\n",
    "                rec = r\"$$T\\left(n\\right)=T\\left(\\dfrac{n}{\" + str(latex(b)) +\\\n",
    "                    r\"}\\right)+\" + str(latex(expr.simplify())) + r\"\\log^{\" +\\\n",
    "                    str(latex(p)) + r\"}{n}$$\"\n",
    "            else:\n",
    "                rec = r\"$$T\\left(n\\right)=T\\left(\\dfrac{n}{\" + str(latex(b)) +\\\n",
    "                    r\"}\\right)+\\log^{\" + str(latex(p)) + r\"}{n}$$\"\n",
    "        elif p < (-1):\n",
    "            rec = r\"$$T\\left(n\\right)=T\\left(\\dfrac{n}{\" + str(latex(b)) +\\\n",
    "                r\"}\\right)+\\dfrac{\" + str(latex(expr.simplify())) +\\\n",
    "                r\"}{\\log^{\" + str(latex(abs(p))) + r\"}{n}}$$\"\n",
    "    else:\n",
    "        if p == 0:\n",
    "            rec = r\"$$T\\left(n\\right)=\" + str(latex(a)) +\\\n",
    "                r\"\\thinspace T\\left(\\dfrac{n}{\" + str(latex(b)) +\\\n",
    "                r\"}\\right)+\" + str(latex(expr.simplify())) + \"$$\"\n",
    "        elif p == 1:\n",
    "            if k > 0:\n",
    "                rec = r\"$$T\\left(n\\right)=\" + str(latex(a)) +\\\n",
    "                    r\"\\thinspace T\\left(\\dfrac{n}{\" + str(latex(b)) +\\\n",
    "                    r\"}\\right)+\" + str(latex(expr.simplify())) + r\"\\log{n}$$\"\n",
    "            else:\n",
    "                rec = r\"$$T\\left(n\\right)=\" + str(latex(a)) +\\\n",
    "                    r\"\\thinspace T\\left(\\dfrac{n}{\" + str(latex(b)) +\\\n",
    "                    r\"}\\right)+\\log{n}$$\"\n",
    "        elif p == (-1):\n",
    "            rec = r\"$$T\\left(n\\right)=\" + str(latex(a)) +\\\n",
    "                r\"\\thinspace T\\left(\\dfrac{n}{\" + str(latex(b)) +\\\n",
    "                r\"}\\right)+\" + str(latex(expr.simplify())) + r\"{\\log{n}}$$\"\n",
    "        elif p > 1:\n",
    "            if k > 0:\n",
    "                rec = r\"$$T\\left(n\\right)=\" + str(latex(a)) +\\\n",
    "                    r\"\\thinspace T\\left(\\dfrac{n}{\" + str(latex(b)) +\\\n",
    "                    r\"}\\right)+\" + str(latex(expr.simplify())) + r\"\\log^{\" +\\\n",
    "                    str(latex(p)) + r\"}{n}$$\"\n",
    "            else:\n",
    "                rec = r\"$$T\\left(n\\right)=\" + str(latex(a)) +\\\n",
    "                    r\"\\thinspace T\\left(\\dfrac{n}{\" + str(latex(b)) +\\\n",
    "                    r\"}\\right)+\\log^{\" + str(latex(p)) + r\"}{n}$$\"\n",
    "        elif p < (-1):\n",
    "            rec = r\"$$T\\left(n\\right)=\" + str(latex(a)) +\\\n",
    "                r\"\\thinspace T\\left(\\dfrac{n}{\" + str(latex(b)) +\\\n",
    "                r\"}\\right)+\" + str(latex(expr.simplify())) + r\"}{\\log^{\" +\\\n",
    "                str(latex(abs(p))) + r\"}{n}}$$\"\n",
    "    display(widgets.HTMLMath(rec))\n",
    "    print('')  # Newline\n",
    "    bigO = r\"$$T\\left(n\\right)\\in\\Theta\\left(\" + str(latex(ans.simplify())) +\\\n",
    "        r\"\\right)$$\"\n",
    "    display(widgets.HTMLMath(bigO))"
   ]
  }
 ],
 "metadata": {
  "voila": {
   "theme": "dark"
  },
  "kernelspec": {
   "display_name": "SageMath 9.2",
   "language": "sage",
   "name": "sagemath"
  },
  "language_info": {
   "codemirror_mode": {
    "name": "ipython",
    "version": 3
   },
   "file_extension": ".py",
   "mimetype": "text/x-python",
   "name": "python",
   "nbconvert_exporter": "python",
   "pygments_lexer": "ipython3",
   "version": "3.8.12"
  }
 },
 "nbformat": 4,
 "nbformat_minor": 5
}
