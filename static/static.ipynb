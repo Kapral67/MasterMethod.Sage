{
 "cells": [
  {
   "cell_type": "markdown",
   "id": "processed-preparation",
   "metadata": {},
   "source": [
    "# Master Theorem Recurrences\n",
    "## Maxwell Kapral"
   ]
  },
  {
   "cell_type": "markdown",
   "id": "bdfceb11-645c-4b24-8b5c-1a483509fab8",
   "metadata": {},
   "source": [
    "<div style=\"float:right\">\n",
    "    <sub>\n",
    "        <i>powered by SageMath in Jupyter</i>\n",
    "    </sub>\n",
    "</div>"
   ]
  },
  {
   "cell_type": "markdown",
   "id": "9b774cc1-72ee-4f41-9bdf-65a2356ab41d",
   "metadata": {},
   "source": [
    "---"
   ]
  },
  {
   "cell_type": "markdown",
   "id": "supposed-whole",
   "metadata": {},
   "source": [
    "## Of the Form:"
   ]
  },
  {
   "cell_type": "markdown",
   "id": "ahead-connectivity",
   "metadata": {},
   "source": [
    "$$ T\\left(n\\right) = a\\thinspace T\\left(\\frac{n}{b}\\right) + \\mathcal{O}\\left(n^k\\thinspace log^{\\thinspace p}\\left(n\\right)\\right) $$"
   ]
  },
  {
   "cell_type": "markdown",
   "id": "stunning-terror",
   "metadata": {},
   "source": [
    "Where $n$ is the size of the problem, $a$ is the number of subproblems in the recursion $a\\geq 1$, $\\frac{n}{b}$ is the size of each subproblem, $b>1$, $k\\geq 0$, $p\\in\\mathbb{R}$"
   ]
  },
  {
   "cell_type": "markdown",
   "id": "choice-mambo",
   "metadata": {},
   "source": [
    "`expr` is a lazy, magic variable. If `expr` is some $f\\left(n\\right)$, then $T\\left(n\\right)\\in\\mathcal{O}\\left(f\\left(n\\right)\\right)$ __if__ $f\\left(n\\right) \\in \\Omega\\left(n^{\\thinspace log_b(a)\\thinspace + \\thinspace c_1}\\right)$ __and__ $a\\cdot f\\left(\\frac{n}{b}\\right) \\leq c_2\\cdot f\\left(n\\right)$ __where__ $c_1 > 0$ __and__ $c_2 < 1$, for all $n$ large enough ($+\\infty$)."
   ]
  },
  {
   "cell_type": "code",
   "execution_count": 1,
   "id": "subject-throw",
   "metadata": {
    "execution": {
     "iopub.execute_input": "2022-02-22T23:15:43.946161Z",
     "iopub.status.busy": "2022-02-22T23:15:43.943643Z",
     "iopub.status.idle": "2022-02-22T23:15:44.116715Z",
     "shell.execute_reply": "2022-02-22T23:15:44.113506Z",
     "shell.execute_reply.started": "2022-02-22T23:15:43.945839Z"
    },
    "tags": []
   },
   "outputs": [],
   "source": [
    "from sage.rings.asymptotic.term_monoid import OTermMonoid, ExactTermMonoid\n",
    "from sage.rings.asymptotic.term_monoid import DefaultTermMonoidFactory as T_M\n",
    "from sage.rings.asymptotic.growth_group import GrowthGroup\n",
    "n = SR.var('n')\n",
    "\n",
    "\n",
    "def mastertheorem(a, b, k, p, expr=n):\n",
    "    assert(a >= 1), \"a not greater than or equal to 1\"\n",
    "    assert(b > 1), \"b not greater than 1\"\n",
    "    assert(k >= 0), \"k not greater than or equal to 0\"\n",
    "    assert(p in RR), \"p must be a real number\"\n",
    "    if expr != n.factorial():\n",
    "        G_G = GrowthGroup('(RR_+)^n * n^RR * log(n)^RR')\n",
    "        bigO = OTermMonoid(T_M, growth_group=G_G, coefficient_ring=RR)\n",
    "        bigTheta = ExactTermMonoid(T_M, growth_group=G_G, coefficient_ring=RR)\n",
    "        if expr == n:\n",
    "            if p != 0:\n",
    "                expr = (n**k)*(log(n)**p)\n",
    "            else:\n",
    "                expr = n**k\n",
    "        ans = None\n",
    "\n",
    "        eps = 0.01\n",
    "        if bigO(n**(log(a, b) - eps)).can_absorb(bigO(expr)):\n",
    "            ans = n**log(a, b)\n",
    "        if ans is None:\n",
    "            if a >= b**k:\n",
    "                if p > -1:\n",
    "                    for i in range(0, p+1, 1):\n",
    "                        if bigTheta((n**log(a, b))*(log(n))**i).can_absorb(bigTheta(expr)):\n",
    "                            ans = (n**log(a, b))*(log(n)**(i+1))\n",
    "                            break\n",
    "                elif p == -1:\n",
    "                    ans = (n**log(a, b))*log(log(n), b)\n",
    "                elif p < -1:\n",
    "                    ans = n**log(a, b)\n",
    "        if ans is None:\n",
    "            c1 = k - log(a, b)\n",
    "            if c1 <= 0:\n",
    "                c1 = 1\n",
    "            if bigO(expr).can_absorb(bigO(n**(log(a, b) + c1))):\n",
    "                c2 = a/(b**k)\n",
    "                if c2 >= 1:\n",
    "                    c2 = 0\n",
    "                if bigO(c2*expr).can_absorb(bigO(a*(expr/b))):\n",
    "                    ans = expr\n",
    "    else:\n",
    "        ans = factorial(n)\n",
    "    ##########\n",
    "    # OUTPUT #\n",
    "    ##########\n",
    "    if a == 1:\n",
    "        if p == 0:\n",
    "            show(LatexExpr(r\"T\\left(n\\right)=T\\left(\\dfrac{n}{\"+latex(b)+\n",
    "                           r\"}\\right)+\"+latex(expr.simplify())))\n",
    "        elif p == 1:\n",
    "            if k > 0:\n",
    "                show(LatexExpr(r\"T\\left(n\\right)=T\\left(\\dfrac{n}{\"+latex(b)+\n",
    "                               r\"}\\right)+\"+latex(expr.simplify())))\n",
    "            else:\n",
    "                show(LatexExpr(r\"T\\left(n\\right)=T\\left(\\dfrac{n}{\"+latex(b)+\n",
    "                               r\"}\\right)+\\log{n}\"))\n",
    "        elif p == (-1):\n",
    "            show(LatexExpr(r\"T\\left(n\\right)=T\\left(\\dfrac{n}{\"+latex(b)+\n",
    "                           r\"}\\right)+\"+latex(expr.simplify())))\n",
    "        elif p > 1:\n",
    "            if k > 0:\n",
    "                show(LatexExpr(r\"T\\left(n\\right)=T\\left(\\dfrac{n}{\"+latex(b)+\n",
    "                               r\"}\\right)+\"+latex(expr.simplify())))\n",
    "            else:\n",
    "                show(LatexExpr(r\"T\\left(n\\right)=T\\left(\\dfrac{n}{\"+latex(b)+\n",
    "                               r\"}\\right)+\\log^{\"+latex(p)+r\"}{n}\"))\n",
    "        elif p < (-1):\n",
    "            show(LatexExpr(r\"T\\left(n\\right)=T\\left(\\dfrac{n}{\"+latex(b)+\n",
    "                           r\"}\\right)+\"+latex(expr.simplify())))\n",
    "    else:\n",
    "        if p == 0:\n",
    "            show(LatexExpr(r\"T\\left(n\\right)=\"+latex(a)+\n",
    "                           r\"\\thinspace T\\left(\\dfrac{n}{\"+latex(b)+\n",
    "                           r\"}\\right)+\"+latex(expr.simplify())))\n",
    "        elif p == 1:\n",
    "            if k > 0:\n",
    "                show(LatexExpr(r\"T\\left(n\\right)=\"+latex(a)+\n",
    "                               r\"\\thinspace T\\left(\\dfrac{n}{\"+latex(b)+\n",
    "                               r\"}\\right)+\"+latex(expr.simplify())))\n",
    "            else:\n",
    "                show(LatexExpr(r\"T\\left(n\\right)=\"+latex(a)+\n",
    "                               r\"\\thinspace T\\left(\\dfrac{n}{\"+latex(b)+\n",
    "                               r\"}\\right)+\\log{n}\"))\n",
    "        elif p == (-1):\n",
    "            show(LatexExpr(r\"T\\left(n\\right)=\"+latex(a)+\n",
    "                           r\"\\thinspace T\\left(\\dfrac{n}{\"+latex(b)+\n",
    "                           r\"}\\right)+\"+latex(expr.simplify())))\n",
    "        elif p > 1:\n",
    "            if k > 0:\n",
    "                show(LatexExpr(r\"T\\left(n\\right)=\"+latex(a)+\n",
    "                               r\"\\thinspace T\\left(\\dfrac{n}{\"+latex(b)+\n",
    "                               r\"}\\right)+\"+latex(expr.simplify())))\n",
    "            else:\n",
    "                show(LatexExpr(r\"T\\left(n\\right)=\"+latex(a)+\n",
    "                               r\"\\thinspace T\\left(\\dfrac{n}{\"+latex(b)+\n",
    "                               r\"}\\right)+\\log^{\"+latex(p)+r\"}{n}\"))\n",
    "        elif p < (-1):\n",
    "            show(LatexExpr(r\"T\\left(n\\right)=\"+latex(a)+\n",
    "                           r\"\\thinspace T\\left(\\dfrac{n}{\"+latex(b)+\n",
    "                           r\"}\\right)+\"+latex(expr.simplify())))\n",
    "    print('')  # Newline\n",
    "    show(LatexExpr(r\"T\\left(n\\right)\\in\\Theta\\left(\"+latex(ans.simplify())+\n",
    "                   r\"\\right)\"))"
   ]
  },
  {
   "cell_type": "markdown",
   "id": "decreased-collapse",
   "metadata": {},
   "source": [
    "---"
   ]
  },
  {
   "cell_type": "markdown",
   "id": "dying-colorado",
   "metadata": {},
   "source": [
    "---"
   ]
  },
  {
   "cell_type": "markdown",
   "id": "annual-might",
   "metadata": {},
   "source": [
    "# Examples"
   ]
  },
  {
   "cell_type": "markdown",
   "id": "massive-finish",
   "metadata": {},
   "source": [
    "### The cost $T\\left(n\\right)$ of a merge sort on a list of $n$ numbers is governed by the following recurrence relation:\n",
    "$$ T\\left(n\\right) = 2\\thinspace T\\left(\\frac{n}{2}\\right) + n - 1, \\quad T\\left(1\\right) = 0 $$"
   ]
  },
  {
   "cell_type": "code",
   "execution_count": 2,
   "id": "northern-glass",
   "metadata": {
    "execution": {
     "iopub.execute_input": "2022-02-22T23:15:44.122134Z",
     "iopub.status.busy": "2022-02-22T23:15:44.120503Z",
     "iopub.status.idle": "2022-02-22T23:15:48.512793Z",
     "shell.execute_reply": "2022-02-22T23:15:48.510099Z",
     "shell.execute_reply.started": "2022-02-22T23:15:44.121993Z"
    },
    "tags": []
   },
   "outputs": [
    {
     "data": {
      "text/html": [
       "<html><script type=\"math/tex; mode=display\">\\newcommand{\\Bold}[1]{\\mathbf{#1}}T\\left(n\\right)= 2 \\thinspace T\\left(\\dfrac{n}{ 2 }\\right)+ n</script></html>"
      ],
      "text/latex": [
       "\\begin{math}\n",
       "\\newcommand{\\Bold}[1]{\\mathbf{#1}}T\\left(n\\right)= 2 \\thinspace T\\left(\\dfrac{n}{ 2 }\\right)+ n\n",
       "\\end{math}"
      ],
      "text/plain": [
       "T\\left(n\\right)= 2 \\thinspace T\\left(\\dfrac{n}{ 2 }\\right)+ n"
      ]
     },
     "metadata": {},
     "output_type": "display_data"
    },
    {
     "name": "stdout",
     "output_type": "stream",
     "text": [
      "\n"
     ]
    },
    {
     "data": {
      "text/html": [
       "<html><script type=\"math/tex; mode=display\">\\newcommand{\\Bold}[1]{\\mathbf{#1}}T\\left(n\\right)\\in\\Theta\\left( n \\log\\left(n\\right) \\right)</script></html>"
      ],
      "text/latex": [
       "\\begin{math}\n",
       "\\newcommand{\\Bold}[1]{\\mathbf{#1}}T\\left(n\\right)\\in\\Theta\\left( n \\log\\left(n\\right) \\right)\n",
       "\\end{math}"
      ],
      "text/plain": [
       "T\\left(n\\right)\\in\\Theta\\left( n \\log\\left(n\\right) \\right)"
      ]
     },
     "metadata": {},
     "output_type": "display_data"
    }
   ],
   "source": [
    "# a = 2, b = 2, k = 1, p = 0\n",
    "mastertheorem(2, 2, 1, 0)"
   ]
  },
  {
   "cell_type": "markdown",
   "id": "convinced-zoning",
   "metadata": {},
   "source": [
    "---"
   ]
  },
  {
   "cell_type": "markdown",
   "id": "sapphire-limit",
   "metadata": {},
   "source": [
    "### Prove that\n",
    "$$ T\\left(n\\right) \\in \\mathcal{O}\\left(n^2\\right) $$"
   ]
  },
  {
   "cell_type": "markdown",
   "id": "connected-dancing",
   "metadata": {},
   "source": [
    "### For\n",
    "$$ T\\left(n\\right) = 3\\thinspace T\\left(\\frac{n}{5}\\right) + n^2 \\quad n > 5 $$"
   ]
  },
  {
   "cell_type": "markdown",
   "id": "ordered-destination",
   "metadata": {},
   "source": [
    "$$ T\\left(5\\right) = 51 \\quad n = 5 $$"
   ]
  },
  {
   "cell_type": "code",
   "execution_count": 3,
   "id": "intimate-worship",
   "metadata": {
    "execution": {
     "iopub.execute_input": "2022-02-22T23:15:48.518039Z",
     "iopub.status.busy": "2022-02-22T23:15:48.516612Z",
     "iopub.status.idle": "2022-02-22T23:15:48.614833Z",
     "shell.execute_reply": "2022-02-22T23:15:48.611854Z",
     "shell.execute_reply.started": "2022-02-22T23:15:48.517914Z"
    },
    "tags": []
   },
   "outputs": [
    {
     "data": {
      "text/html": [
       "<html><script type=\"math/tex; mode=display\">\\newcommand{\\Bold}[1]{\\mathbf{#1}}T\\left(n\\right)= 3 \\thinspace T\\left(\\dfrac{n}{ 5 }\\right)+ n^{2}</script></html>"
      ],
      "text/latex": [
       "\\begin{math}\n",
       "\\newcommand{\\Bold}[1]{\\mathbf{#1}}T\\left(n\\right)= 3 \\thinspace T\\left(\\dfrac{n}{ 5 }\\right)+ n^{2}\n",
       "\\end{math}"
      ],
      "text/plain": [
       "T\\left(n\\right)= 3 \\thinspace T\\left(\\dfrac{n}{ 5 }\\right)+ n^{2}"
      ]
     },
     "metadata": {},
     "output_type": "display_data"
    },
    {
     "name": "stdout",
     "output_type": "stream",
     "text": [
      "\n"
     ]
    },
    {
     "data": {
      "text/html": [
       "<html><script type=\"math/tex; mode=display\">\\newcommand{\\Bold}[1]{\\mathbf{#1}}T\\left(n\\right)\\in\\Theta\\left( n^{2} \\right)</script></html>"
      ],
      "text/latex": [
       "\\begin{math}\n",
       "\\newcommand{\\Bold}[1]{\\mathbf{#1}}T\\left(n\\right)\\in\\Theta\\left( n^{2} \\right)\n",
       "\\end{math}"
      ],
      "text/plain": [
       "T\\left(n\\right)\\in\\Theta\\left( n^{2} \\right)"
      ]
     },
     "metadata": {},
     "output_type": "display_data"
    }
   ],
   "source": [
    "# a = 3, b = 5, k = 2, p = 0\n",
    "mastertheorem(3, 5, 2, 0)"
   ]
  },
  {
   "cell_type": "markdown",
   "id": "cardiac-stamp",
   "metadata": {},
   "source": [
    "---"
   ]
  },
  {
   "cell_type": "markdown",
   "id": "coordinate-differential",
   "metadata": {},
   "source": [
    "### Express the Running Time of the Following Recurrence Relation\n",
    "$$ T\\left(n\\right) = 5\\thinspace T\\left(\\frac{n}{3}\\right) + n^4 \\quad n > 1 $$"
   ]
  },
  {
   "cell_type": "markdown",
   "id": "nasty-application",
   "metadata": {},
   "source": [
    "$$ T\\left(1\\right) = 1 \\quad n = 1 $$"
   ]
  },
  {
   "cell_type": "code",
   "execution_count": 4,
   "id": "existing-anxiety",
   "metadata": {
    "execution": {
     "iopub.execute_input": "2022-02-22T23:15:48.620696Z",
     "iopub.status.busy": "2022-02-22T23:15:48.619187Z",
     "iopub.status.idle": "2022-02-22T23:15:48.708704Z",
     "shell.execute_reply": "2022-02-22T23:15:48.706116Z",
     "shell.execute_reply.started": "2022-02-22T23:15:48.620569Z"
    },
    "tags": []
   },
   "outputs": [
    {
     "data": {
      "text/html": [
       "<html><script type=\"math/tex; mode=display\">\\newcommand{\\Bold}[1]{\\mathbf{#1}}T\\left(n\\right)= 5 \\thinspace T\\left(\\dfrac{n}{ 3 }\\right)+ n^{4}</script></html>"
      ],
      "text/latex": [
       "\\begin{math}\n",
       "\\newcommand{\\Bold}[1]{\\mathbf{#1}}T\\left(n\\right)= 5 \\thinspace T\\left(\\dfrac{n}{ 3 }\\right)+ n^{4}\n",
       "\\end{math}"
      ],
      "text/plain": [
       "T\\left(n\\right)= 5 \\thinspace T\\left(\\dfrac{n}{ 3 }\\right)+ n^{4}"
      ]
     },
     "metadata": {},
     "output_type": "display_data"
    },
    {
     "name": "stdout",
     "output_type": "stream",
     "text": [
      "\n"
     ]
    },
    {
     "data": {
      "text/html": [
       "<html><script type=\"math/tex; mode=display\">\\newcommand{\\Bold}[1]{\\mathbf{#1}}T\\left(n\\right)\\in\\Theta\\left( n^{4} \\right)</script></html>"
      ],
      "text/latex": [
       "\\begin{math}\n",
       "\\newcommand{\\Bold}[1]{\\mathbf{#1}}T\\left(n\\right)\\in\\Theta\\left( n^{4} \\right)\n",
       "\\end{math}"
      ],
      "text/plain": [
       "T\\left(n\\right)\\in\\Theta\\left( n^{4} \\right)"
      ]
     },
     "metadata": {},
     "output_type": "display_data"
    }
   ],
   "source": [
    "# a = 5, b = 3, k = 4, p = 0\n",
    "mastertheorem(5, 3, 4, 0)"
   ]
  },
  {
   "cell_type": "markdown",
   "id": "pretty-london",
   "metadata": {},
   "source": [
    "---"
   ]
  },
  {
   "cell_type": "code",
   "execution_count": 5,
   "id": "professional-minimum",
   "metadata": {
    "execution": {
     "iopub.execute_input": "2022-02-22T23:15:48.714064Z",
     "iopub.status.busy": "2022-02-22T23:15:48.712729Z",
     "iopub.status.idle": "2022-02-22T23:15:48.800101Z",
     "shell.execute_reply": "2022-02-22T23:15:48.797000Z",
     "shell.execute_reply.started": "2022-02-22T23:15:48.713928Z"
    },
    "tags": []
   },
   "outputs": [
    {
     "data": {
      "text/html": [
       "<html><script type=\"math/tex; mode=display\">\\newcommand{\\Bold}[1]{\\mathbf{#1}}T\\left(n\\right)= 3 \\thinspace T\\left(\\dfrac{n}{ 2 }\\right)+ n^{2}</script></html>"
      ],
      "text/latex": [
       "\\begin{math}\n",
       "\\newcommand{\\Bold}[1]{\\mathbf{#1}}T\\left(n\\right)= 3 \\thinspace T\\left(\\dfrac{n}{ 2 }\\right)+ n^{2}\n",
       "\\end{math}"
      ],
      "text/plain": [
       "T\\left(n\\right)= 3 \\thinspace T\\left(\\dfrac{n}{ 2 }\\right)+ n^{2}"
      ]
     },
     "metadata": {},
     "output_type": "display_data"
    },
    {
     "name": "stdout",
     "output_type": "stream",
     "text": [
      "\n"
     ]
    },
    {
     "data": {
      "text/html": [
       "<html><script type=\"math/tex; mode=display\">\\newcommand{\\Bold}[1]{\\mathbf{#1}}T\\left(n\\right)\\in\\Theta\\left( n^{2} \\right)</script></html>"
      ],
      "text/latex": [
       "\\begin{math}\n",
       "\\newcommand{\\Bold}[1]{\\mathbf{#1}}T\\left(n\\right)\\in\\Theta\\left( n^{2} \\right)\n",
       "\\end{math}"
      ],
      "text/plain": [
       "T\\left(n\\right)\\in\\Theta\\left( n^{2} \\right)"
      ]
     },
     "metadata": {},
     "output_type": "display_data"
    }
   ],
   "source": [
    "# a = 3, b = 2, k = 2, p = 0\n",
    "mastertheorem(3, 2, 2, 0)"
   ]
  },
  {
   "cell_type": "markdown",
   "id": "stone-dominican",
   "metadata": {},
   "source": [
    "---"
   ]
  },
  {
   "cell_type": "code",
   "execution_count": 6,
   "id": "educated-landing",
   "metadata": {
    "execution": {
     "iopub.execute_input": "2022-02-22T23:15:48.806832Z",
     "iopub.status.busy": "2022-02-22T23:15:48.804425Z",
     "iopub.status.idle": "2022-02-22T23:15:48.864189Z",
     "shell.execute_reply": "2022-02-22T23:15:48.861217Z",
     "shell.execute_reply.started": "2022-02-22T23:15:48.806685Z"
    },
    "tags": []
   },
   "outputs": [
    {
     "data": {
      "text/html": [
       "<html><script type=\"math/tex; mode=display\">\\newcommand{\\Bold}[1]{\\mathbf{#1}}T\\left(n\\right)= 4 \\thinspace T\\left(\\dfrac{n}{ 2 }\\right)+ n^{2}</script></html>"
      ],
      "text/latex": [
       "\\begin{math}\n",
       "\\newcommand{\\Bold}[1]{\\mathbf{#1}}T\\left(n\\right)= 4 \\thinspace T\\left(\\dfrac{n}{ 2 }\\right)+ n^{2}\n",
       "\\end{math}"
      ],
      "text/plain": [
       "T\\left(n\\right)= 4 \\thinspace T\\left(\\dfrac{n}{ 2 }\\right)+ n^{2}"
      ]
     },
     "metadata": {},
     "output_type": "display_data"
    },
    {
     "name": "stdout",
     "output_type": "stream",
     "text": [
      "\n"
     ]
    },
    {
     "data": {
      "text/html": [
       "<html><script type=\"math/tex; mode=display\">\\newcommand{\\Bold}[1]{\\mathbf{#1}}T\\left(n\\right)\\in\\Theta\\left( n^{2} \\log\\left(n\\right) \\right)</script></html>"
      ],
      "text/latex": [
       "\\begin{math}\n",
       "\\newcommand{\\Bold}[1]{\\mathbf{#1}}T\\left(n\\right)\\in\\Theta\\left( n^{2} \\log\\left(n\\right) \\right)\n",
       "\\end{math}"
      ],
      "text/plain": [
       "T\\left(n\\right)\\in\\Theta\\left( n^{2} \\log\\left(n\\right) \\right)"
      ]
     },
     "metadata": {},
     "output_type": "display_data"
    }
   ],
   "source": [
    "# a = 4, b = 2, k = 2, p = 0\n",
    "mastertheorem(4, 2, 2, 0)"
   ]
  },
  {
   "cell_type": "markdown",
   "id": "numerous-mountain",
   "metadata": {},
   "source": [
    "---"
   ]
  },
  {
   "cell_type": "code",
   "execution_count": 7,
   "id": "arabic-receptor",
   "metadata": {
    "execution": {
     "iopub.execute_input": "2022-02-22T23:15:48.869612Z",
     "iopub.status.busy": "2022-02-22T23:15:48.868025Z",
     "iopub.status.idle": "2022-02-22T23:15:48.948418Z",
     "shell.execute_reply": "2022-02-22T23:15:48.945343Z",
     "shell.execute_reply.started": "2022-02-22T23:15:48.869476Z"
    },
    "tags": []
   },
   "outputs": [
    {
     "data": {
      "text/html": [
       "<html><script type=\"math/tex; mode=display\">\\newcommand{\\Bold}[1]{\\mathbf{#1}}T\\left(n\\right)=T\\left(\\dfrac{n}{ 2 }\\right)+ 2^{n}</script></html>"
      ],
      "text/latex": [
       "\\begin{math}\n",
       "\\newcommand{\\Bold}[1]{\\mathbf{#1}}T\\left(n\\right)=T\\left(\\dfrac{n}{ 2 }\\right)+ 2^{n}\n",
       "\\end{math}"
      ],
      "text/plain": [
       "T\\left(n\\right)=T\\left(\\dfrac{n}{ 2 }\\right)+ 2^{n}"
      ]
     },
     "metadata": {},
     "output_type": "display_data"
    },
    {
     "name": "stdout",
     "output_type": "stream",
     "text": [
      "\n"
     ]
    },
    {
     "data": {
      "text/html": [
       "<html><script type=\"math/tex; mode=display\">\\newcommand{\\Bold}[1]{\\mathbf{#1}}T\\left(n\\right)\\in\\Theta\\left( 2^{n} \\right)</script></html>"
      ],
      "text/latex": [
       "\\begin{math}\n",
       "\\newcommand{\\Bold}[1]{\\mathbf{#1}}T\\left(n\\right)\\in\\Theta\\left( 2^{n} \\right)\n",
       "\\end{math}"
      ],
      "text/plain": [
       "T\\left(n\\right)\\in\\Theta\\left( 2^{n} \\right)"
      ]
     },
     "metadata": {},
     "output_type": "display_data"
    }
   ],
   "source": [
    "# a = 1, b = 2, k = 0, p = 0, expr = 2^n\n",
    "mastertheorem(1, 2, 1, 0, (2**n))"
   ]
  },
  {
   "cell_type": "markdown",
   "id": "connected-consortium",
   "metadata": {},
   "source": [
    "---"
   ]
  },
  {
   "cell_type": "code",
   "execution_count": 8,
   "id": "measured-dover",
   "metadata": {
    "execution": {
     "iopub.execute_input": "2022-02-22T23:15:48.955018Z",
     "iopub.status.busy": "2022-02-22T23:15:48.953111Z",
     "iopub.status.idle": "2022-02-22T23:15:49.021676Z",
     "shell.execute_reply": "2022-02-22T23:15:49.018518Z",
     "shell.execute_reply.started": "2022-02-22T23:15:48.954882Z"
    },
    "tags": []
   },
   "outputs": [
    {
     "data": {
      "text/html": [
       "<html><script type=\"math/tex; mode=display\">\\newcommand{\\Bold}[1]{\\mathbf{#1}}T\\left(n\\right)= 2 \\thinspace T\\left(\\dfrac{n}{ 2 }\\right)+ \\frac{n}{\\log\\left(n\\right)}</script></html>"
      ],
      "text/latex": [
       "\\begin{math}\n",
       "\\newcommand{\\Bold}[1]{\\mathbf{#1}}T\\left(n\\right)= 2 \\thinspace T\\left(\\dfrac{n}{ 2 }\\right)+ \\frac{n}{\\log\\left(n\\right)}\n",
       "\\end{math}"
      ],
      "text/plain": [
       "T\\left(n\\right)= 2 \\thinspace T\\left(\\dfrac{n}{ 2 }\\right)+ \\frac{n}{\\log\\left(n\\right)}"
      ]
     },
     "metadata": {},
     "output_type": "display_data"
    },
    {
     "name": "stdout",
     "output_type": "stream",
     "text": [
      "\n"
     ]
    },
    {
     "data": {
      "text/html": [
       "<html><script type=\"math/tex; mode=display\">\\newcommand{\\Bold}[1]{\\mathbf{#1}}T\\left(n\\right)\\in\\Theta\\left( \\frac{n \\log\\left(\\log\\left(n\\right)\\right)}{\\log\\left(2\\right)} \\right)</script></html>"
      ],
      "text/latex": [
       "\\begin{math}\n",
       "\\newcommand{\\Bold}[1]{\\mathbf{#1}}T\\left(n\\right)\\in\\Theta\\left( \\frac{n \\log\\left(\\log\\left(n\\right)\\right)}{\\log\\left(2\\right)} \\right)\n",
       "\\end{math}"
      ],
      "text/plain": [
       "T\\left(n\\right)\\in\\Theta\\left( \\frac{n \\log\\left(\\log\\left(n\\right)\\right)}{\\log\\left(2\\right)} \\right)"
      ]
     },
     "metadata": {},
     "output_type": "display_data"
    }
   ],
   "source": [
    "# a = 2, b = 2, k = 1, p = -1\n",
    "mastertheorem(2, 2, 1, -1)"
   ]
  },
  {
   "cell_type": "markdown",
   "id": "collect-melbourne",
   "metadata": {},
   "source": [
    "---"
   ]
  },
  {
   "cell_type": "code",
   "execution_count": 9,
   "id": "official-myrtle",
   "metadata": {
    "execution": {
     "iopub.execute_input": "2022-02-22T23:15:49.027584Z",
     "iopub.status.busy": "2022-02-22T23:15:49.026123Z",
     "iopub.status.idle": "2022-02-22T23:15:49.060619Z",
     "shell.execute_reply": "2022-02-22T23:15:49.057932Z",
     "shell.execute_reply.started": "2022-02-22T23:15:49.027455Z"
    },
    "tags": []
   },
   "outputs": [
    {
     "data": {
      "text/html": [
       "<html><script type=\"math/tex; mode=display\">\\newcommand{\\Bold}[1]{\\mathbf{#1}}T\\left(n\\right)= 16 \\thinspace T\\left(\\dfrac{n}{ 4 }\\right)+ n!</script></html>"
      ],
      "text/latex": [
       "\\begin{math}\n",
       "\\newcommand{\\Bold}[1]{\\mathbf{#1}}T\\left(n\\right)= 16 \\thinspace T\\left(\\dfrac{n}{ 4 }\\right)+ n!\n",
       "\\end{math}"
      ],
      "text/plain": [
       "T\\left(n\\right)= 16 \\thinspace T\\left(\\dfrac{n}{ 4 }\\right)+ n!"
      ]
     },
     "metadata": {},
     "output_type": "display_data"
    },
    {
     "name": "stdout",
     "output_type": "stream",
     "text": [
      "\n"
     ]
    },
    {
     "data": {
      "text/html": [
       "<html><script type=\"math/tex; mode=display\">\\newcommand{\\Bold}[1]{\\mathbf{#1}}T\\left(n\\right)\\in\\Theta\\left( n! \\right)</script></html>"
      ],
      "text/latex": [
       "\\begin{math}\n",
       "\\newcommand{\\Bold}[1]{\\mathbf{#1}}T\\left(n\\right)\\in\\Theta\\left( n! \\right)\n",
       "\\end{math}"
      ],
      "text/plain": [
       "T\\left(n\\right)\\in\\Theta\\left( n! \\right)"
      ]
     },
     "metadata": {},
     "output_type": "display_data"
    }
   ],
   "source": [
    "# a = 16, b = 4, k = 1, p = 0, expr = n!\n",
    "mastertheorem(16, 4, 1, 0, factorial(n))"
   ]
  },
  {
   "cell_type": "markdown",
   "id": "fabulous-specification",
   "metadata": {},
   "source": [
    "---"
   ]
  },
  {
   "cell_type": "code",
   "execution_count": 10,
   "id": "infectious-scholarship",
   "metadata": {
    "execution": {
     "iopub.execute_input": "2022-02-22T23:15:49.066152Z",
     "iopub.status.busy": "2022-02-22T23:15:49.064706Z",
     "iopub.status.idle": "2022-02-22T23:15:49.184237Z",
     "shell.execute_reply": "2022-02-22T23:15:49.181457Z",
     "shell.execute_reply.started": "2022-02-22T23:15:49.066027Z"
    },
    "tags": []
   },
   "outputs": [
    {
     "data": {
      "text/html": [
       "<html><script type=\"math/tex; mode=display\">\\newcommand{\\Bold}[1]{\\mathbf{#1}}T\\left(n\\right)= 6 \\thinspace T\\left(\\dfrac{n}{ 3 }\\right)+ n^{2} \\log\\left(n\\right)</script></html>"
      ],
      "text/latex": [
       "\\begin{math}\n",
       "\\newcommand{\\Bold}[1]{\\mathbf{#1}}T\\left(n\\right)= 6 \\thinspace T\\left(\\dfrac{n}{ 3 }\\right)+ n^{2} \\log\\left(n\\right)\n",
       "\\end{math}"
      ],
      "text/plain": [
       "T\\left(n\\right)= 6 \\thinspace T\\left(\\dfrac{n}{ 3 }\\right)+ n^{2} \\log\\left(n\\right)"
      ]
     },
     "metadata": {},
     "output_type": "display_data"
    },
    {
     "name": "stdout",
     "output_type": "stream",
     "text": [
      "\n"
     ]
    },
    {
     "data": {
      "text/html": [
       "<html><script type=\"math/tex; mode=display\">\\newcommand{\\Bold}[1]{\\mathbf{#1}}T\\left(n\\right)\\in\\Theta\\left( n^{2} \\log\\left(n\\right) \\right)</script></html>"
      ],
      "text/latex": [
       "\\begin{math}\n",
       "\\newcommand{\\Bold}[1]{\\mathbf{#1}}T\\left(n\\right)\\in\\Theta\\left( n^{2} \\log\\left(n\\right) \\right)\n",
       "\\end{math}"
      ],
      "text/plain": [
       "T\\left(n\\right)\\in\\Theta\\left( n^{2} \\log\\left(n\\right) \\right)"
      ]
     },
     "metadata": {},
     "output_type": "display_data"
    }
   ],
   "source": [
    "# a = 6, b = 3, k = 2, p = 1\n",
    "mastertheorem(6, 3, 2, 1)"
   ]
  },
  {
   "cell_type": "markdown",
   "id": "statewide-palestine",
   "metadata": {},
   "source": [
    "---"
   ]
  },
  {
   "cell_type": "code",
   "execution_count": 11,
   "id": "included-title",
   "metadata": {
    "execution": {
     "iopub.execute_input": "2022-02-22T23:15:49.190369Z",
     "iopub.status.busy": "2022-02-22T23:15:49.188711Z",
     "iopub.status.idle": "2022-02-22T23:15:49.236754Z",
     "shell.execute_reply": "2022-02-22T23:15:49.233970Z",
     "shell.execute_reply.started": "2022-02-22T23:15:49.190243Z"
    },
    "tags": []
   },
   "outputs": [
    {
     "data": {
      "text/html": [
       "<html><script type=\"math/tex; mode=display\">\\newcommand{\\Bold}[1]{\\mathbf{#1}}T\\left(n\\right)= 4 \\thinspace T\\left(\\dfrac{n}{ 2 }\\right)+\\log{n}</script></html>"
      ],
      "text/latex": [
       "\\begin{math}\n",
       "\\newcommand{\\Bold}[1]{\\mathbf{#1}}T\\left(n\\right)= 4 \\thinspace T\\left(\\dfrac{n}{ 2 }\\right)+\\log{n}\n",
       "\\end{math}"
      ],
      "text/plain": [
       "T\\left(n\\right)= 4 \\thinspace T\\left(\\dfrac{n}{ 2 }\\right)+\\log{n}"
      ]
     },
     "metadata": {},
     "output_type": "display_data"
    },
    {
     "name": "stdout",
     "output_type": "stream",
     "text": [
      "\n"
     ]
    },
    {
     "data": {
      "text/html": [
       "<html><script type=\"math/tex; mode=display\">\\newcommand{\\Bold}[1]{\\mathbf{#1}}T\\left(n\\right)\\in\\Theta\\left( n^{2} \\right)</script></html>"
      ],
      "text/latex": [
       "\\begin{math}\n",
       "\\newcommand{\\Bold}[1]{\\mathbf{#1}}T\\left(n\\right)\\in\\Theta\\left( n^{2} \\right)\n",
       "\\end{math}"
      ],
      "text/plain": [
       "T\\left(n\\right)\\in\\Theta\\left( n^{2} \\right)"
      ]
     },
     "metadata": {},
     "output_type": "display_data"
    }
   ],
   "source": [
    "# a = 4, b = 2, k = 0, p = 1\n",
    "mastertheorem(4, 2, 0, 1)"
   ]
  },
  {
   "cell_type": "markdown",
   "id": "choice-modern",
   "metadata": {},
   "source": [
    "---"
   ]
  },
  {
   "cell_type": "code",
   "execution_count": 12,
   "id": "arranged-madrid",
   "metadata": {
    "execution": {
     "iopub.execute_input": "2022-02-22T23:15:49.241710Z",
     "iopub.status.busy": "2022-02-22T23:15:49.240428Z",
     "iopub.status.idle": "2022-02-22T23:15:49.333168Z",
     "shell.execute_reply": "2022-02-22T23:15:49.329929Z",
     "shell.execute_reply.started": "2022-02-22T23:15:49.241578Z"
    },
    "tags": []
   },
   "outputs": [
    {
     "data": {
      "text/html": [
       "<html><script type=\"math/tex; mode=display\">\\newcommand{\\Bold}[1]{\\mathbf{#1}}T\\left(n\\right)= 2 \\thinspace T\\left(\\dfrac{n}{ 2 }\\right)+ n \\log\\left(n\\right)</script></html>"
      ],
      "text/latex": [
       "\\begin{math}\n",
       "\\newcommand{\\Bold}[1]{\\mathbf{#1}}T\\left(n\\right)= 2 \\thinspace T\\left(\\dfrac{n}{ 2 }\\right)+ n \\log\\left(n\\right)\n",
       "\\end{math}"
      ],
      "text/plain": [
       "T\\left(n\\right)= 2 \\thinspace T\\left(\\dfrac{n}{ 2 }\\right)+ n \\log\\left(n\\right)"
      ]
     },
     "metadata": {},
     "output_type": "display_data"
    },
    {
     "name": "stdout",
     "output_type": "stream",
     "text": [
      "\n"
     ]
    },
    {
     "data": {
      "text/html": [
       "<html><script type=\"math/tex; mode=display\">\\newcommand{\\Bold}[1]{\\mathbf{#1}}T\\left(n\\right)\\in\\Theta\\left( n \\log\\left(n\\right)^{2} \\right)</script></html>"
      ],
      "text/latex": [
       "\\begin{math}\n",
       "\\newcommand{\\Bold}[1]{\\mathbf{#1}}T\\left(n\\right)\\in\\Theta\\left( n \\log\\left(n\\right)^{2} \\right)\n",
       "\\end{math}"
      ],
      "text/plain": [
       "T\\left(n\\right)\\in\\Theta\\left( n \\log\\left(n\\right)^{2} \\right)"
      ]
     },
     "metadata": {},
     "output_type": "display_data"
    }
   ],
   "source": [
    "# a = 2, b = 2, k = 1, p = 1\n",
    "mastertheorem(2, 2, 1, 1)"
   ]
  },
  {
   "cell_type": "markdown",
   "id": "frozen-vegetation",
   "metadata": {},
   "source": [
    "---"
   ]
  },
  {
   "cell_type": "code",
   "execution_count": 13,
   "id": "welcome-poker",
   "metadata": {
    "execution": {
     "iopub.execute_input": "2022-02-22T23:15:49.338913Z",
     "iopub.status.busy": "2022-02-22T23:15:49.337627Z",
     "iopub.status.idle": "2022-02-22T23:15:49.426744Z",
     "shell.execute_reply": "2022-02-22T23:15:49.423630Z",
     "shell.execute_reply.started": "2022-02-22T23:15:49.338778Z"
    },
    "tags": []
   },
   "outputs": [
    {
     "data": {
      "text/html": [
       "<html><script type=\"math/tex; mode=display\">\\newcommand{\\Bold}[1]{\\mathbf{#1}}T\\left(n\\right)= 2 \\thinspace T\\left(\\dfrac{n}{ 4 }\\right)+ n^{0.51}</script></html>"
      ],
      "text/latex": [
       "\\begin{math}\n",
       "\\newcommand{\\Bold}[1]{\\mathbf{#1}}T\\left(n\\right)= 2 \\thinspace T\\left(\\dfrac{n}{ 4 }\\right)+ n^{0.51}\n",
       "\\end{math}"
      ],
      "text/plain": [
       "T\\left(n\\right)= 2 \\thinspace T\\left(\\dfrac{n}{ 4 }\\right)+ n^{0.51}"
      ]
     },
     "metadata": {},
     "output_type": "display_data"
    },
    {
     "name": "stdout",
     "output_type": "stream",
     "text": [
      "\n"
     ]
    },
    {
     "data": {
      "text/html": [
       "<html><script type=\"math/tex; mode=display\">\\newcommand{\\Bold}[1]{\\mathbf{#1}}T\\left(n\\right)\\in\\Theta\\left( n^{0.51} \\right)</script></html>"
      ],
      "text/latex": [
       "\\begin{math}\n",
       "\\newcommand{\\Bold}[1]{\\mathbf{#1}}T\\left(n\\right)\\in\\Theta\\left( n^{0.51} \\right)\n",
       "\\end{math}"
      ],
      "text/plain": [
       "T\\left(n\\right)\\in\\Theta\\left( n^{0.51} \\right)"
      ]
     },
     "metadata": {},
     "output_type": "display_data"
    }
   ],
   "source": [
    "# a = 2, b = 4, k = 0.51, p = 0\n",
    "mastertheorem(2, 4, 0.51, 0)"
   ]
  },
  {
   "cell_type": "markdown",
   "id": "changed-mercury",
   "metadata": {},
   "source": [
    "---"
   ]
  },
  {
   "cell_type": "code",
   "execution_count": 14,
   "id": "daily-mexico",
   "metadata": {
    "execution": {
     "iopub.execute_input": "2022-02-22T23:15:49.432515Z",
     "iopub.status.busy": "2022-02-22T23:15:49.430802Z",
     "iopub.status.idle": "2022-02-22T23:15:50.033968Z",
     "shell.execute_reply": "2022-02-22T23:15:50.031701Z",
     "shell.execute_reply.started": "2022-02-22T23:15:49.432376Z"
    },
    "tags": []
   },
   "outputs": [
    {
     "data": {
      "text/html": [
       "<html><script type=\"math/tex; mode=display\">\\newcommand{\\Bold}[1]{\\mathbf{#1}}T\\left(n\\right)= \\sqrt{2} \\thinspace T\\left(\\dfrac{n}{ 2 }\\right)+\\log{n}</script></html>"
      ],
      "text/latex": [
       "\\begin{math}\n",
       "\\newcommand{\\Bold}[1]{\\mathbf{#1}}T\\left(n\\right)= \\sqrt{2} \\thinspace T\\left(\\dfrac{n}{ 2 }\\right)+\\log{n}\n",
       "\\end{math}"
      ],
      "text/plain": [
       "T\\left(n\\right)= \\sqrt{2} \\thinspace T\\left(\\dfrac{n}{ 2 }\\right)+\\log{n}"
      ]
     },
     "metadata": {},
     "output_type": "display_data"
    },
    {
     "name": "stdout",
     "output_type": "stream",
     "text": [
      "\n"
     ]
    },
    {
     "data": {
      "text/html": [
       "<html><script type=\"math/tex; mode=display\">\\newcommand{\\Bold}[1]{\\mathbf{#1}}T\\left(n\\right)\\in\\Theta\\left( \\sqrt{n} \\right)</script></html>"
      ],
      "text/latex": [
       "\\begin{math}\n",
       "\\newcommand{\\Bold}[1]{\\mathbf{#1}}T\\left(n\\right)\\in\\Theta\\left( \\sqrt{n} \\right)\n",
       "\\end{math}"
      ],
      "text/plain": [
       "T\\left(n\\right)\\in\\Theta\\left( \\sqrt{n} \\right)"
      ]
     },
     "metadata": {},
     "output_type": "display_data"
    }
   ],
   "source": [
    "# a = sqrt(2), b = 2, k = 0, p = 1\n",
    "mastertheorem(sqrt(2), 2, 0, 1)"
   ]
  },
  {
   "cell_type": "markdown",
   "id": "popular-manhattan",
   "metadata": {},
   "source": [
    "---"
   ]
  },
  {
   "cell_type": "code",
   "execution_count": 15,
   "id": "horizontal-description",
   "metadata": {
    "execution": {
     "iopub.execute_input": "2022-02-22T23:15:50.038710Z",
     "iopub.status.busy": "2022-02-22T23:15:50.037372Z",
     "iopub.status.idle": "2022-02-22T23:15:50.082360Z",
     "shell.execute_reply": "2022-02-22T23:15:50.079776Z",
     "shell.execute_reply.started": "2022-02-22T23:15:50.038589Z"
    },
    "tags": []
   },
   "outputs": [
    {
     "data": {
      "text/html": [
       "<html><script type=\"math/tex; mode=display\">\\newcommand{\\Bold}[1]{\\mathbf{#1}}T\\left(n\\right)= 3 \\thinspace T\\left(\\dfrac{n}{ 3 }\\right)+ \\sqrt{n}</script></html>"
      ],
      "text/latex": [
       "\\begin{math}\n",
       "\\newcommand{\\Bold}[1]{\\mathbf{#1}}T\\left(n\\right)= 3 \\thinspace T\\left(\\dfrac{n}{ 3 }\\right)+ \\sqrt{n}\n",
       "\\end{math}"
      ],
      "text/plain": [
       "T\\left(n\\right)= 3 \\thinspace T\\left(\\dfrac{n}{ 3 }\\right)+ \\sqrt{n}"
      ]
     },
     "metadata": {},
     "output_type": "display_data"
    },
    {
     "name": "stdout",
     "output_type": "stream",
     "text": [
      "\n"
     ]
    },
    {
     "data": {
      "text/html": [
       "<html><script type=\"math/tex; mode=display\">\\newcommand{\\Bold}[1]{\\mathbf{#1}}T\\left(n\\right)\\in\\Theta\\left( n \\right)</script></html>"
      ],
      "text/latex": [
       "\\begin{math}\n",
       "\\newcommand{\\Bold}[1]{\\mathbf{#1}}T\\left(n\\right)\\in\\Theta\\left( n \\right)\n",
       "\\end{math}"
      ],
      "text/plain": [
       "T\\left(n\\right)\\in\\Theta\\left( n \\right)"
      ]
     },
     "metadata": {},
     "output_type": "display_data"
    }
   ],
   "source": [
    "# a = 3, b = 3, k = 1/2, p = 0\n",
    "mastertheorem(3, 3, 1/2, 0)"
   ]
  },
  {
   "cell_type": "markdown",
   "id": "subjective-moldova",
   "metadata": {},
   "source": [
    "---"
   ]
  },
  {
   "cell_type": "code",
   "execution_count": 16,
   "id": "preceding-elite",
   "metadata": {
    "execution": {
     "iopub.execute_input": "2022-02-22T23:15:50.087322Z",
     "iopub.status.busy": "2022-02-22T23:15:50.085979Z",
     "iopub.status.idle": "2022-02-22T23:15:50.133683Z",
     "shell.execute_reply": "2022-02-22T23:15:50.131421Z",
     "shell.execute_reply.started": "2022-02-22T23:15:50.087193Z"
    },
    "tags": []
   },
   "outputs": [
    {
     "data": {
      "text/html": [
       "<html><script type=\"math/tex; mode=display\">\\newcommand{\\Bold}[1]{\\mathbf{#1}}T\\left(n\\right)= 3 \\thinspace T\\left(\\dfrac{n}{ 2 }\\right)+ n</script></html>"
      ],
      "text/latex": [
       "\\begin{math}\n",
       "\\newcommand{\\Bold}[1]{\\mathbf{#1}}T\\left(n\\right)= 3 \\thinspace T\\left(\\dfrac{n}{ 2 }\\right)+ n\n",
       "\\end{math}"
      ],
      "text/plain": [
       "T\\left(n\\right)= 3 \\thinspace T\\left(\\dfrac{n}{ 2 }\\right)+ n"
      ]
     },
     "metadata": {},
     "output_type": "display_data"
    },
    {
     "name": "stdout",
     "output_type": "stream",
     "text": [
      "\n"
     ]
    },
    {
     "data": {
      "text/html": [
       "<html><script type=\"math/tex; mode=display\">\\newcommand{\\Bold}[1]{\\mathbf{#1}}T\\left(n\\right)\\in\\Theta\\left( n^{\\frac{\\log\\left(3\\right)}{\\log\\left(2\\right)}} \\right)</script></html>"
      ],
      "text/latex": [
       "\\begin{math}\n",
       "\\newcommand{\\Bold}[1]{\\mathbf{#1}}T\\left(n\\right)\\in\\Theta\\left( n^{\\frac{\\log\\left(3\\right)}{\\log\\left(2\\right)}} \\right)\n",
       "\\end{math}"
      ],
      "text/plain": [
       "T\\left(n\\right)\\in\\Theta\\left( n^{\\frac{\\log\\left(3\\right)}{\\log\\left(2\\right)}} \\right)"
      ]
     },
     "metadata": {},
     "output_type": "display_data"
    }
   ],
   "source": [
    "# a = 3, b = 2, k = 1, p = 0\n",
    "mastertheorem(3, 2, 1, 0)"
   ]
  },
  {
   "cell_type": "markdown",
   "id": "f04d2784-f990-472a-ae69-172c893923b8",
   "metadata": {},
   "source": [
    "---"
   ]
  },
  {
   "cell_type": "code",
   "execution_count": 17,
   "id": "59ecbc28-b1fb-4e34-a9ed-140e076ba99a",
   "metadata": {
    "execution": {
     "iopub.execute_input": "2022-02-22T23:15:50.138747Z",
     "iopub.status.busy": "2022-02-22T23:15:50.137348Z",
     "iopub.status.idle": "2022-02-22T23:15:50.216681Z",
     "shell.execute_reply": "2022-02-22T23:15:50.213732Z",
     "shell.execute_reply.started": "2022-02-22T23:15:50.138617Z"
    },
    "tags": []
   },
   "outputs": [
    {
     "data": {
      "text/html": [
       "<html><script type=\"math/tex; mode=display\">\\newcommand{\\Bold}[1]{\\mathbf{#1}}T\\left(n\\right)= 2 \\thinspace T\\left(\\dfrac{n}{ 7 }\\right)+ n^{6}</script></html>"
      ],
      "text/latex": [
       "\\begin{math}\n",
       "\\newcommand{\\Bold}[1]{\\mathbf{#1}}T\\left(n\\right)= 2 \\thinspace T\\left(\\dfrac{n}{ 7 }\\right)+ n^{6}\n",
       "\\end{math}"
      ],
      "text/plain": [
       "T\\left(n\\right)= 2 \\thinspace T\\left(\\dfrac{n}{ 7 }\\right)+ n^{6}"
      ]
     },
     "metadata": {},
     "output_type": "display_data"
    },
    {
     "name": "stdout",
     "output_type": "stream",
     "text": [
      "\n"
     ]
    },
    {
     "data": {
      "text/html": [
       "<html><script type=\"math/tex; mode=display\">\\newcommand{\\Bold}[1]{\\mathbf{#1}}T\\left(n\\right)\\in\\Theta\\left( n^{6} \\right)</script></html>"
      ],
      "text/latex": [
       "\\begin{math}\n",
       "\\newcommand{\\Bold}[1]{\\mathbf{#1}}T\\left(n\\right)\\in\\Theta\\left( n^{6} \\right)\n",
       "\\end{math}"
      ],
      "text/plain": [
       "T\\left(n\\right)\\in\\Theta\\left( n^{6} \\right)"
      ]
     },
     "metadata": {},
     "output_type": "display_data"
    }
   ],
   "source": [
    "# a = 2, b = 7, k = 6, p = 0\n",
    "mastertheorem(2, 7, 6, 0)"
   ]
  },
  {
   "cell_type": "markdown",
   "id": "9f61000d-70e6-49d2-9ed9-74d09372150e",
   "metadata": {},
   "source": [
    "---"
   ]
  },
  {
   "cell_type": "code",
   "execution_count": 18,
   "id": "16c7caae-59c1-40da-9a24-3dd7d02cd8a2",
   "metadata": {
    "execution": {
     "iopub.execute_input": "2022-02-22T23:15:50.222314Z",
     "iopub.status.busy": "2022-02-22T23:15:50.220583Z",
     "iopub.status.idle": "2022-02-22T23:15:50.357523Z",
     "shell.execute_reply": "2022-02-22T23:15:50.354973Z",
     "shell.execute_reply.started": "2022-02-22T23:15:50.222165Z"
    },
    "tags": []
   },
   "outputs": [
    {
     "data": {
      "text/html": [
       "<html><script type=\"math/tex; mode=display\">\\newcommand{\\Bold}[1]{\\mathbf{#1}}T\\left(n\\right)= 16 \\thinspace T\\left(\\dfrac{n}{ 4 }\\right)+ n^{2} \\log\\left(n\\right)^{3}</script></html>"
      ],
      "text/latex": [
       "\\begin{math}\n",
       "\\newcommand{\\Bold}[1]{\\mathbf{#1}}T\\left(n\\right)= 16 \\thinspace T\\left(\\dfrac{n}{ 4 }\\right)+ n^{2} \\log\\left(n\\right)^{3}\n",
       "\\end{math}"
      ],
      "text/plain": [
       "T\\left(n\\right)= 16 \\thinspace T\\left(\\dfrac{n}{ 4 }\\right)+ n^{2} \\log\\left(n\\right)^{3}"
      ]
     },
     "metadata": {},
     "output_type": "display_data"
    },
    {
     "name": "stdout",
     "output_type": "stream",
     "text": [
      "\n"
     ]
    },
    {
     "data": {
      "text/html": [
       "<html><script type=\"math/tex; mode=display\">\\newcommand{\\Bold}[1]{\\mathbf{#1}}T\\left(n\\right)\\in\\Theta\\left( n^{2} \\log\\left(n\\right)^{4} \\right)</script></html>"
      ],
      "text/latex": [
       "\\begin{math}\n",
       "\\newcommand{\\Bold}[1]{\\mathbf{#1}}T\\left(n\\right)\\in\\Theta\\left( n^{2} \\log\\left(n\\right)^{4} \\right)\n",
       "\\end{math}"
      ],
      "text/plain": [
       "T\\left(n\\right)\\in\\Theta\\left( n^{2} \\log\\left(n\\right)^{4} \\right)"
      ]
     },
     "metadata": {},
     "output_type": "display_data"
    }
   ],
   "source": [
    "# a = 16, b = 4, k = 2, p = 3\n",
    "mastertheorem(16, 4, 2, 3)"
   ]
  },
  {
   "cell_type": "markdown",
   "id": "e5860ab8-ae6e-4e38-98b0-86fcb5358ce7",
   "metadata": {},
   "source": [
    "---"
   ]
  },
  {
   "cell_type": "code",
   "execution_count": 19,
   "id": "53889fad-4a9d-4e23-95c9-3456a1f1e63d",
   "metadata": {
    "execution": {
     "iopub.execute_input": "2022-02-22T23:15:50.362445Z",
     "iopub.status.busy": "2022-02-22T23:15:50.361045Z",
     "iopub.status.idle": "2022-02-22T23:15:50.411160Z",
     "shell.execute_reply": "2022-02-22T23:15:50.408730Z",
     "shell.execute_reply.started": "2022-02-22T23:15:50.362328Z"
    },
    "tags": []
   },
   "outputs": [
    {
     "data": {
      "text/html": [
       "<html><script type=\"math/tex; mode=display\">\\newcommand{\\Bold}[1]{\\mathbf{#1}}T\\left(n\\right)= 9 \\thinspace T\\left(\\dfrac{n}{ 2 }\\right)+ n^{3}</script></html>"
      ],
      "text/latex": [
       "\\begin{math}\n",
       "\\newcommand{\\Bold}[1]{\\mathbf{#1}}T\\left(n\\right)= 9 \\thinspace T\\left(\\dfrac{n}{ 2 }\\right)+ n^{3}\n",
       "\\end{math}"
      ],
      "text/plain": [
       "T\\left(n\\right)= 9 \\thinspace T\\left(\\dfrac{n}{ 2 }\\right)+ n^{3}"
      ]
     },
     "metadata": {},
     "output_type": "display_data"
    },
    {
     "name": "stdout",
     "output_type": "stream",
     "text": [
      "\n"
     ]
    },
    {
     "data": {
      "text/html": [
       "<html><script type=\"math/tex; mode=display\">\\newcommand{\\Bold}[1]{\\mathbf{#1}}T\\left(n\\right)\\in\\Theta\\left( n^{\\frac{2 \\, \\log\\left(3\\right)}{\\log\\left(2\\right)}} \\right)</script></html>"
      ],
      "text/latex": [
       "\\begin{math}\n",
       "\\newcommand{\\Bold}[1]{\\mathbf{#1}}T\\left(n\\right)\\in\\Theta\\left( n^{\\frac{2 \\, \\log\\left(3\\right)}{\\log\\left(2\\right)}} \\right)\n",
       "\\end{math}"
      ],
      "text/plain": [
       "T\\left(n\\right)\\in\\Theta\\left( n^{\\frac{2 \\, \\log\\left(3\\right)}{\\log\\left(2\\right)}} \\right)"
      ]
     },
     "metadata": {},
     "output_type": "display_data"
    }
   ],
   "source": [
    "# a = 9, b = 2, k = 3, p = 0\n",
    "mastertheorem(9, 2, 3, 0)"
   ]
  },
  {
   "cell_type": "markdown",
   "id": "c15a2db6-2567-46d1-a684-2ff5dc6958ed",
   "metadata": {},
   "source": [
    "---"
   ]
  },
  {
   "cell_type": "code",
   "execution_count": 20,
   "id": "84b87e23-ca76-4eef-9b5e-fee978902027",
   "metadata": {
    "execution": {
     "iopub.execute_input": "2022-02-22T23:15:50.416275Z",
     "iopub.status.busy": "2022-02-22T23:15:50.414927Z",
     "iopub.status.idle": "2022-02-22T23:15:50.488692Z",
     "shell.execute_reply": "2022-02-22T23:15:50.486457Z",
     "shell.execute_reply.started": "2022-02-22T23:15:50.416160Z"
    },
    "tags": []
   },
   "outputs": [
    {
     "data": {
      "text/html": [
       "<html><script type=\"math/tex; mode=display\">\\newcommand{\\Bold}[1]{\\mathbf{#1}}T\\left(n\\right)= 27 \\thinspace T\\left(\\dfrac{n}{ 3 }\\right)+ n^{4}</script></html>"
      ],
      "text/latex": [
       "\\begin{math}\n",
       "\\newcommand{\\Bold}[1]{\\mathbf{#1}}T\\left(n\\right)= 27 \\thinspace T\\left(\\dfrac{n}{ 3 }\\right)+ n^{4}\n",
       "\\end{math}"
      ],
      "text/plain": [
       "T\\left(n\\right)= 27 \\thinspace T\\left(\\dfrac{n}{ 3 }\\right)+ n^{4}"
      ]
     },
     "metadata": {},
     "output_type": "display_data"
    },
    {
     "name": "stdout",
     "output_type": "stream",
     "text": [
      "\n"
     ]
    },
    {
     "data": {
      "text/html": [
       "<html><script type=\"math/tex; mode=display\">\\newcommand{\\Bold}[1]{\\mathbf{#1}}T\\left(n\\right)\\in\\Theta\\left( n^{4} \\right)</script></html>"
      ],
      "text/latex": [
       "\\begin{math}\n",
       "\\newcommand{\\Bold}[1]{\\mathbf{#1}}T\\left(n\\right)\\in\\Theta\\left( n^{4} \\right)\n",
       "\\end{math}"
      ],
      "text/plain": [
       "T\\left(n\\right)\\in\\Theta\\left( n^{4} \\right)"
      ]
     },
     "metadata": {},
     "output_type": "display_data"
    }
   ],
   "source": [
    "# a = 27, b = 3, k = 4, p = 0\n",
    "mastertheorem(27, 3, 4, 0)"
   ]
  },
  {
   "cell_type": "markdown",
   "id": "d8277614-0681-466a-bc16-230bec03fa30",
   "metadata": {},
   "source": [
    "---"
   ]
  },
  {
   "cell_type": "code",
   "execution_count": 21,
   "id": "2269b469-742e-46fe-b44c-524b3fe747e3",
   "metadata": {
    "execution": {
     "iopub.execute_input": "2022-02-22T23:15:50.494042Z",
     "iopub.status.busy": "2022-02-22T23:15:50.492685Z",
     "iopub.status.idle": "2022-02-22T23:15:50.672608Z",
     "shell.execute_reply": "2022-02-22T23:15:50.670009Z",
     "shell.execute_reply.started": "2022-02-22T23:15:50.493916Z"
    },
    "tags": []
   },
   "outputs": [
    {
     "data": {
      "text/html": [
       "<html><script type=\"math/tex; mode=display\">\\newcommand{\\Bold}[1]{\\mathbf{#1}}T\\left(n\\right)= 16 \\thinspace T\\left(\\dfrac{n}{ 2 }\\right)+ n^{4} \\log\\left(n\\right)^{5}</script></html>"
      ],
      "text/latex": [
       "\\begin{math}\n",
       "\\newcommand{\\Bold}[1]{\\mathbf{#1}}T\\left(n\\right)= 16 \\thinspace T\\left(\\dfrac{n}{ 2 }\\right)+ n^{4} \\log\\left(n\\right)^{5}\n",
       "\\end{math}"
      ],
      "text/plain": [
       "T\\left(n\\right)= 16 \\thinspace T\\left(\\dfrac{n}{ 2 }\\right)+ n^{4} \\log\\left(n\\right)^{5}"
      ]
     },
     "metadata": {},
     "output_type": "display_data"
    },
    {
     "name": "stdout",
     "output_type": "stream",
     "text": [
      "\n"
     ]
    },
    {
     "data": {
      "text/html": [
       "<html><script type=\"math/tex; mode=display\">\\newcommand{\\Bold}[1]{\\mathbf{#1}}T\\left(n\\right)\\in\\Theta\\left( n^{4} \\log\\left(n\\right)^{6} \\right)</script></html>"
      ],
      "text/latex": [
       "\\begin{math}\n",
       "\\newcommand{\\Bold}[1]{\\mathbf{#1}}T\\left(n\\right)\\in\\Theta\\left( n^{4} \\log\\left(n\\right)^{6} \\right)\n",
       "\\end{math}"
      ],
      "text/plain": [
       "T\\left(n\\right)\\in\\Theta\\left( n^{4} \\log\\left(n\\right)^{6} \\right)"
      ]
     },
     "metadata": {},
     "output_type": "display_data"
    }
   ],
   "source": [
    "# a = 16, b = 2, k = 4, p = 5\n",
    "mastertheorem(16, 2, 4, 5)"
   ]
  },
  {
   "cell_type": "markdown",
   "id": "e8883fda-b3dd-4697-8ca7-93ad08d0ed87",
   "metadata": {},
   "source": [
    "---"
   ]
  },
  {
   "cell_type": "markdown",
   "id": "ce9a4842-1b82-4c94-821f-0538ab587bb9",
   "metadata": {},
   "source": [
    "### The Camerini Minimum Bottleneck Spanning Tree Algorithm"
   ]
  },
  {
   "cell_type": "markdown",
   "id": "b363ffb8-0f75-4e9e-92e3-ecba7d828ea8",
   "metadata": {},
   "source": [
    "$$ T\\left(n\\right) = \\thinspace T\\left(\\frac{n}{2}\\right) + \\mathcal{O}\\left(n\\right) $$"
   ]
  },
  {
   "cell_type": "code",
   "execution_count": 22,
   "id": "2587b14b-cf0f-44f7-b610-521aba6673ee",
   "metadata": {
    "execution": {
     "iopub.execute_input": "2022-02-22T23:15:50.677921Z",
     "iopub.status.busy": "2022-02-22T23:15:50.676335Z",
     "iopub.status.idle": "2022-02-22T23:15:50.740730Z",
     "shell.execute_reply": "2022-02-22T23:15:50.738324Z",
     "shell.execute_reply.started": "2022-02-22T23:15:50.677789Z"
    },
    "tags": []
   },
   "outputs": [
    {
     "data": {
      "text/html": [
       "<html><script type=\"math/tex; mode=display\">\\newcommand{\\Bold}[1]{\\mathbf{#1}}T\\left(n\\right)=T\\left(\\dfrac{n}{ 2 }\\right)+ n</script></html>"
      ],
      "text/latex": [
       "\\begin{math}\n",
       "\\newcommand{\\Bold}[1]{\\mathbf{#1}}T\\left(n\\right)=T\\left(\\dfrac{n}{ 2 }\\right)+ n\n",
       "\\end{math}"
      ],
      "text/plain": [
       "T\\left(n\\right)=T\\left(\\dfrac{n}{ 2 }\\right)+ n"
      ]
     },
     "metadata": {},
     "output_type": "display_data"
    },
    {
     "name": "stdout",
     "output_type": "stream",
     "text": [
      "\n"
     ]
    },
    {
     "data": {
      "text/html": [
       "<html><script type=\"math/tex; mode=display\">\\newcommand{\\Bold}[1]{\\mathbf{#1}}T\\left(n\\right)\\in\\Theta\\left( n \\right)</script></html>"
      ],
      "text/latex": [
       "\\begin{math}\n",
       "\\newcommand{\\Bold}[1]{\\mathbf{#1}}T\\left(n\\right)\\in\\Theta\\left( n \\right)\n",
       "\\end{math}"
      ],
      "text/plain": [
       "T\\left(n\\right)\\in\\Theta\\left( n \\right)"
      ]
     },
     "metadata": {},
     "output_type": "display_data"
    }
   ],
   "source": [
    "# a = 1, b = 2, k = 1, p = 0\n",
    "mastertheorem(1, 2, 1, 0)"
   ]
  },
  {
   "cell_type": "markdown",
   "id": "smart-honolulu",
   "metadata": {},
   "source": [
    "---"
   ]
  },
  {
   "cell_type": "markdown",
   "id": "wicked-layer",
   "metadata": {},
   "source": [
    "$$\\square$$"
   ]
  }
 ],
 "metadata": {
  "kernelspec": {
   "display_name": "SageMath 9.2",
   "language": "sage",
   "name": "sagemath"
  },
  "language_info": {
   "codemirror_mode": {
    "name": "ipython",
    "version": 3
   },
   "file_extension": ".py",
   "mimetype": "text/x-python",
   "name": "python",
   "nbconvert_exporter": "python",
   "pygments_lexer": "ipython3",
   "version": "3.8.12"
  },
  "toc-autonumbering": false,
  "toc-showcode": true,
  "toc-showmarkdowntxt": true,
  "toc-showtags": false
 },
 "nbformat": 4,
 "nbformat_minor": 5
}
